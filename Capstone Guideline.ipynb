{
 "cells": [
  {
   "cell_type": "markdown",
   "metadata": {},
   "source": [
    "# Background\n",
    "\n",
    "Sebagai data scientist, tugas utama kita akan selalu bergelut dengan data. Namun, selama ini, apakah kita sadar darimana data kita berasal? bagaimana data kita dikumpulkan? dsb dsb? Untuk menjadi seorang data scientist yang baik, saya rasa pengetahuan dan pengalmaan dalam mengumpulkan data cukup penting. Apakah anda pernah kesulitan dalam mencari data? apakah anda pernah kesulitan dalam melakukan pelabelan data? apakah kalian percaya bahwa data seharusnya gratis dan mudah untuk diakses. It's Data for Democracy!\n",
    "\n",
    "Untuk membuat data dapat diakses oleh semua orang, pihak penyedia jasa juga harus memberikan batasan guna mengurangi penggunaan berlebihan dan penyalahgunaan data oleh pihak-pihak yang tidak bertanggungjawab. Untuk menanggulangi permasalahn ini, kita bisa memanfaatkan teknologi API (Application Program Interface). Dengan API, kita dapat mengatur bagaimana data kita dapat diakses secara umum.\n",
    "\n",
    "Dalam Capstone kali ini, kita akan mencoba membuat API menggunakan python + flask agar data kita dapat diakses secara umum. Secara konsep, kita akan membangun aplikasi python menggunakan flask yang dapat mengatur, membaa, dan mengirimkan response terhadap request user.\n"
   ]
  },
  {
   "cell_type": "markdown",
   "metadata": {},
   "source": [
    "**Data yang digunakan:** \n",
    "- books_c.csv\n",
    "\n",
    "**Environtments:**\n",
    "- python \n",
    "- pandas\n",
    "- flask \n",
    "- gunicorn\n",
    "\n",
    "\n",
    "**Goals**\n",
    "1. Berhasil membuat Flask APP yang berfungsi sebagai API yang memberikan data dalam format JSON\n",
    "2. Berhasil membuat minimal 2 endpoint statis (atau lebih) dan 1 endpoint dinamis(atau lebih) menggunakan routing\n",
    "3. Berhasil melakukan deployment Flask APP ke Heroku\n",
    "\n",
    "*Notes: menggunakan endpoints yang sudah dicontohkan tidak akan dihitung sebagai endpoint hasil kerja capstone*"
   ]
  },
  {
   "cell_type": "markdown",
   "metadata": {},
   "source": [
    "# Membangun API Python dalam 6 menit \n",
    "*Disclaimer: Course ini adalah course singkat untuk membantu kalian dalam membuat API. Akan ada sangat banyak kekurangan dari konsep API yang ada saat ini. Namun untuk kemudahan, kita hanya akan membahas konsep dasar dari API dan membuat Flask App sederhana yang akan bertugas sebagai API"
   ]
  },
  {
   "cell_type": "markdown",
   "metadata": {},
   "source": [
    "Kita akan mencoba membangun Flask APP sebagai API, oleh karena itu jika kalian belum memiliki libaray Flask, silakan install menggunakan `pip install flask`. Berikut adalah beberapa library yang akan kita butuhkan. Cobalah import library tersebut sebelum menginstallnya. "
   ]
  },
  {
   "cell_type": "code",
   "execution_count": 7,
   "metadata": {},
   "outputs": [],
   "source": [
    "# !pip install flask\n",
    "# !pip install pandas\n",
    "# !pip install requests"
   ]
  },
  {
   "cell_type": "code",
   "execution_count": 8,
   "metadata": {},
   "outputs": [],
   "source": [
    "import pandas as pd"
   ]
  },
  {
   "cell_type": "code",
   "execution_count": 9,
   "metadata": {},
   "outputs": [],
   "source": [
    "import flask"
   ]
  },
  {
   "cell_type": "code",
   "execution_count": 10,
   "metadata": {},
   "outputs": [],
   "source": [
    "import requests"
   ]
  },
  {
   "cell_type": "code",
   "execution_count": 11,
   "metadata": {},
   "outputs": [],
   "source": [
    "import gunicorn"
   ]
  },
  {
   "cell_type": "markdown",
   "metadata": {},
   "source": [
    "Membuat aplikasi Flask sesederhana menulis code dalam 7 baris !\n",
    "cobalah buat file `app.py` yang berisi script berikut :"
   ]
  },
  {
   "cell_type": "code",
   "execution_count": 12,
   "metadata": {},
   "outputs": [
    {
     "name": "stdout",
     "output_type": "stream",
     "text": [
      " * Serving Flask app \"__main__\" (lazy loading)\n",
      " * Environment: production\n",
      "   WARNING: This is a development server. Do not use it in a production deployment.\n",
      "   Use a production WSGI server instead.\n",
      " * Debug mode: on\n"
     ]
    },
    {
     "name": "stderr",
     "output_type": "stream",
     "text": [
      " * Restarting with stat\n"
     ]
    },
    {
     "ename": "SystemExit",
     "evalue": "1",
     "output_type": "error",
     "traceback": [
      "An exception has occurred, use %tb to see the full traceback.\n",
      "\u001b[1;31mSystemExit\u001b[0m\u001b[1;31m:\u001b[0m 1\n"
     ]
    }
   ],
   "source": [
    "from flask import Flask, request \n",
    "app = Flask(__name__) \n",
    "\n",
    "@app.route('/home')\n",
    "def home():\n",
    "    return 'Hello World'\n",
    "\n",
    "if __name__ == '__main__':\n",
    "    app.run(debug=True, port=5000)"
   ]
  },
  {
   "cell_type": "markdown",
   "metadata": {},
   "source": [
    "Setelah membuat file `app.py` berisikan script diatas, cobalah jalankan file tersebut melalui terminal dengan masuk ke direktori yang sama dengan file tersebut, dan jalankan sintaks `python app.py`. Setelah menjalankan sintaks tersebut, maka aplikasi kita akan berjalan dengan alamat `localhost` dengan port `5000`, atau dapat kalian akses melalui browser dengan alamat `localhost:5000`. \n",
    "\n",
    "pada baris ke-4, terdapat sintaks `@app.route('/home')`, yang berarti bahwa fungsi atau method dibawahnya (fungsi `home`) akan dijalankan ketika user mengakses rute atau alaman `/home`. Sekarang, cobalah akses `localhost:5000/home`, maka kalian akan mendapatkan tulisan 'Hello World'\n",
    "\n",
    "Pada baris terakhir, `debug=True` akan menampilkan semua log aktivitas dari app kita dalam terminal/comman prompt/shell dimana app kita dijalankan. \n",
    "\n",
    "Dari contoh script diatas, kita dapat katakan bahwa rute atau `route` adalah endpoints, atau tempat dimana sistem dan user saling bersentuhan. Dalam kasus diatas, untuk mendapatkan 'Hello World', maka kita harus mengakses endpoint `/home`. Sekali lagi, **representasi endpoint adalah route**."
   ]
  },
  {
   "cell_type": "markdown",
   "metadata": {},
   "source": [
    "## Query Arguments"
   ]
  },
  {
   "cell_type": "markdown",
   "metadata": {},
   "source": [
    "Setelah mengetahui kerangka utama dalam membuat aplikasi Flask, cukup penting untuk mengetahui Query Arguments. Ketika kita melakukan pencarian pada mesin pencari seperti google.com, jika kita perhatikan pada alamat (url) yang diberikan, terdapat query arguments yang diberikan setelah `google.com/` yang diawali dengan `?`. \n",
    "\n",
    "Format query pada url pada ummnya adalah `example.com?arg1=value1&arg2=value2`, dimana query akan diawali dengan `?`, dihubungkan dengan `&`, dan setiap query adalah pasangan `key` dan `value`"
   ]
  },
  {
   "cell_type": "code",
   "execution_count": null,
   "metadata": {},
   "outputs": [],
   "source": [
    "from flask import Flask, request \n",
    "app = Flask(__name__) \n",
    "\n",
    "@app.route('/query')\n",
    "def query_example():\n",
    "    key1 = 'name'\n",
    "    key2 = 'age'\n",
    "    name = request.args[key1] # Jika key tidak disertakan dalam URL, maka akan terjadi server error\n",
    "    age = request.args.get(key2) # Jika key tidak disertakan dalam URL, maka age akan bernilai None\n",
    "    return(f\"Hello, {name}, yoau are {age} years old\")\n",
    "\n",
    "if __name__ == '__main__':\n",
    "    app.run(debug=True, port=5000) "
   ]
  },
  {
   "cell_type": "markdown",
   "metadata": {},
   "source": [
    "Silakan update file `app.py` dengan script diatas, lalu akses `localhost:5000/query?name=Budi Setiawan`. Perhatikan error yang ditampilkan. Sekarang, cobalah akses  `localhost:5000/query?name=Budi Setiawan&age=32`. Lalu bandingkan ketika kita mengakses  `localhost:5000/query?age=32`. Dari contoh diatas, terdapat dua cara untuk mendaptkan arguments dari url yang dikirim oleh user. Pertama adalah dengan menggunakan `request.args[key]`. Namun cara ini cukup beresiko mengingat jika key tidak tersedia dalam url, maka akan terjadi server error. Cara pertama ini jarang digunakna kecuali jika kita memang mewajibkan adanya argumen tertentu. Cara yang kedua adalah `request.args.get(key)`. Cara kedua ini lebih sering digunakan karena secara otomatis akan memberikan nilai None jika key tidak terdapat dalam url.\n",
    "\n",
    "Dalam API, penggunaan query arguments dapat sangat membantu terutama dalam endpoint dinamis. Kita akan pelajari bagaimana query arguments akan sangat membantu ktia dalam menyederhanakan pembuatan API server kita. "
   ]
  },
  {
   "cell_type": "markdown",
   "metadata": {},
   "source": [
    "## API Methods"
   ]
  },
  {
   "cell_type": "markdown",
   "metadata": {},
   "source": [
    "Apakah kalian familiar dengan **CRUD** (**C**reate, **R**read, **U**pdate, **D**elete) dalam database? Dalam API, konsep tersebut diadopsim menjadi \n",
    "- POST(CREATE), \n",
    "- GET(READ), \n",
    "- PUT(UPDATE), \n",
    "- DELETE\n",
    "\n",
    "Secara konsep, method POST, GET, PUT, dan DELETE dibuat untuk mengatur API agar dapat lebih terstruktur. Meskipun pada prakterknya, endpoint yang kita definisikan menggunakan method \"POST\" tidaklah harus untuk membuat data. Artinya, tidak ada aturan yang mengharuskan kita untuk menuliskan jenis method dalam setiap endpoints kita (default endpoints menggunakan method GET). Namun, untuk tujuan kerapihan dan mengikuti kaidah yang benar, kita akan coba mendefinisikan endpoints kita dengan method tertentu, dan melihat manfaat dari penggunaan jenis method dalam setiap endpoint. \n",
    "\n"
   ]
  },
  {
   "cell_type": "code",
   "execution_count": null,
   "metadata": {},
   "outputs": [],
   "source": [
    "from flask import Flask, request \n",
    "app = Flask(__name__)\n",
    "\n",
    "@app.route('/form', methods=['GET', 'POST']) #allow both GET and POST requests\n",
    "def form():\n",
    "    if request.method == 'POST':  # Hanya akan tampil setelah melakukan POST (submit) form\n",
    "        key1 = 'name'\n",
    "        key2 = 'age'\n",
    "        name = request.form.get(key1)\n",
    "        age = request.form[key2]\n",
    "        \n",
    "        return (f'''<h1>Your Name  is: {name}</h1>\n",
    "                   <h1>Your Age is: {age}</h1>\n",
    "                ''')\n",
    "\n",
    "    return '''<form method=\"POST\">\n",
    "                  Name: <input type=\"text\" name=\"name\"><br>\n",
    "                  Age: <input type=\"text\" name=\"age\"><br>\n",
    "                  <input type=\"submit\" value=\"Submit\"><br>\n",
    "              </form>'''\n",
    "\n",
    "if __name__ == '__main__':\n",
    "    app.run(debug=True, port=5000) "
   ]
  },
  {
   "cell_type": "markdown",
   "metadata": {},
   "source": [
    "Silakan update file `app.py` kalian dengan sintaks diatas, lalu akses `localhost:5000/form`, aka akan muncul form sederhana dengan tombol \"submit\". Mengapa form tampil terlebih dahulu? karena dalam url `localhost:5000/form`, kita tidak mendefinisikan method kita sebagai POST atau GET. Maka, secara default request kita akan dianggap sebagai GET. Apakah kita bisa menentukan method kita dalam url? Kami sarankan untuk tidak mencobanya. \n",
    "\n",
    "Dalam sintaks diatas, kita mendefinisikan rute atau endpoint `/form` sebagai GET atau POST. Hal ini berarti endpoint tersebut dapat menerima request GET atau POST. \n",
    "\n",
    "Setelah kita mengisi form dan menekan tombol \"submit\", maka kita akan melakukan request POST dengan mengirimkan data-data berupa nama dan umur kepada server kita. Oleh sebab itu, server kita akan menjalankan perintah yang berada dalam kondisi `if request.method == 'POST':`\n",
    "\n",
    "Cobalah untuk mengganti `if request.method == 'POST':` menjadi `if request.method == 'GET':`, maka kalian akan melihat perbedannya. \n",
    "\n",
    "Jika kalian penasaran, cobalah ubah `@app.route('/form', methods=['GET', 'POST'])` menjadi `@app.route('/form', methods=['POST'])`\n"
   ]
  },
  {
   "cell_type": "markdown",
   "metadata": {},
   "source": [
    "## JSON Data Type"
   ]
  },
  {
   "cell_type": "markdown",
   "metadata": {},
   "source": [
    "JSON adalah standar tipe data dalam pengiriman data dengan protokol HTTP. Pada dasarnya, JSON (JavaScript Object Name) sangat mirip, atau bisa dibilang identik dengan tipe data `dictionary` dalam python. Dictionary terdiri dari pasangan `key`:`value`. Berikut adalah contoh bentuk dan akses data dictionary. "
   ]
  },
  {
   "cell_type": "code",
   "execution_count": null,
   "metadata": {},
   "outputs": [],
   "source": [
    "books = {'author': 'Anthony',\n",
    "         'num_of_page': 123,\n",
    "         'year' : 2019\n",
    "        }\n",
    "print(f\"Pengaran buku: {books['author']}, dengan halaman {books['num_of_page']}, diterbitkan pada {books['year']}\")"
   ]
  },
  {
   "cell_type": "markdown",
   "metadata": {},
   "source": [
    "Kita akan mencoba mengirimkan data JSON menggunakan method POST ke endpoint kita. Dikarenakan browser biasa tidak bisa menangani hal tersebut, kita bisa gunakan [postman](https://www.getpostman.com/) atau jupyter notebook untuk membantu.\n",
    "Silakan update file `app.py` dengan script berikut: "
   ]
  },
  {
   "cell_type": "code",
   "execution_count": null,
   "metadata": {},
   "outputs": [],
   "source": [
    "from flask import Flask, request \n",
    "app = Flask(__name__) \n",
    "\n",
    "@app.route('/json', methods=['POST']) \n",
    "def json_exmp():\n",
    "    \n",
    "    req = request.get_json(force=True) # melakukan parsing data json, menyimpannya sebagai dictionary\n",
    "    \n",
    "    name = req['name']\n",
    "    age = req['age']\n",
    "    address = req['address']\n",
    "    \n",
    "    return (f'''Hello {name}, your age is {age}, and your address in {address}\n",
    "            ''')\n",
    "\n",
    "if __name__ == '__main__':\n",
    "    app.run(debug=True, port=5000) #run app in debug mode on port 5000"
   ]
  },
  {
   "cell_type": "markdown",
   "metadata": {},
   "source": [
    "Setelah server tersebut diupdate, kita akan coba melakukan request menggunakan library requests pada python"
   ]
  },
  {
   "cell_type": "code",
   "execution_count": null,
   "metadata": {
    "scrolled": false
   },
   "outputs": [],
   "source": [
    "import requests\n",
    "\n",
    "url = 'http://localhost:5000/json'\n",
    "data = {\"name\" : \"Andi\", \n",
    "        \"age\" : 10,\n",
    "        \"address\" : \"Jakarta\"\n",
    "       }\n",
    "r = requests.post(url,json=data) # pastikan gunakan requests.pos, bukan requests.get\n",
    "print(r)"
   ]
  },
  {
   "cell_type": "markdown",
   "metadata": {},
   "source": [
    "Response 200 berarti API kita berhasil mengirimkan atau melakukan request yang kita kirim. Untuk mempelajari jenis-jenis repsonse yang dikirimkan melalui HTTP, silakan merujuk ke [sumber ini](https://restfulapi.net/http-status-codes/). Objek yang kita kirimkan berupa `requests.models.Response`. Untuk mendapatkan isi dari respon tersebut, kita dapat gunakan `.text` atau `.content`"
   ]
  },
  {
   "cell_type": "code",
   "execution_count": null,
   "metadata": {},
   "outputs": [],
   "source": [
    "print(type(r))"
   ]
  },
  {
   "cell_type": "code",
   "execution_count": null,
   "metadata": {},
   "outputs": [],
   "source": [
    "print(r.content)\n",
    "print(r.text)"
   ]
  },
  {
   "cell_type": "markdown",
   "metadata": {},
   "source": [
    "## Data Fetching"
   ]
  },
  {
   "cell_type": "markdown",
   "metadata": {},
   "source": [
    "Kembali ke tujuan utama, kita akan mencoba membuat API yang mampu mengirimkan data dalam bentuk DataFrame (dalam format JSON). Dalam hal ini, kita akan coba menggunakan data `books_c.csv` yang terdapat dalam folder `data_input`. Dalam contoh kali ini, kita akan mengaplikasikan dynamic routing. Konsepnya adalah kita tidak secara eksplisit membuat route atau endpoint, melainkan menyimpannya dalam variabel. Hal ini akan sangat berguna jika data yang ingin kita berikan sangat beragam dan bergantung pada keinginan user.\n",
    "\n",
    "Untuk melakukan dynamic routing, cukup simpan variabel kedalam tanda `< >`, lalu masukkan variabel tersebut sebagai parameter fungsi di endpoint yang bersangkutan. "
   ]
  },
  {
   "cell_type": "code",
   "execution_count": 44,
   "metadata": {},
   "outputs": [
    {
     "name": "stdout",
     "output_type": "stream",
     "text": [
      " * Serving Flask app \"__main__\" (lazy loading)\n",
      " * Environment: production\n",
      "   WARNING: This is a development server. Do not use it in a production deployment.\n",
      "   Use a production WSGI server instead.\n",
      " * Debug mode: on\n"
     ]
    },
    {
     "name": "stderr",
     "output_type": "stream",
     "text": [
      " * Restarting with stat\n"
     ]
    },
    {
     "ename": "SystemExit",
     "evalue": "1",
     "output_type": "error",
     "traceback": [
      "An exception has occurred, use %tb to see the full traceback.\n",
      "\u001b[1;31mSystemExit\u001b[0m\u001b[1;31m:\u001b[0m 1\n"
     ]
    },
    {
     "name": "stderr",
     "output_type": "stream",
     "text": [
      "C:\\Users\\leona\\Anaconda3\\lib\\site-packages\\IPython\\core\\interactiveshell.py:3334: UserWarning: To exit: use 'exit', 'quit', or Ctrl-D.\n",
      "  warn(\"To exit: use 'exit', 'quit', or Ctrl-D.\", stacklevel=1)\n"
     ]
    }
   ],
   "source": [
    "from flask import Flask, request \n",
    "import pandas as pd \n",
    "import sqlite3\n",
    "app = Flask(__name__) \n",
    "\n",
    "# mendapatkan keseluruhan data dari <data_name>\n",
    "@app.route('/data/get/<data_name>', methods=['GET']) \n",
    "def get_data(data_name): \n",
    "    conn = sqlite3.connect(\"data/chinook.db\")\n",
    "    data = pd.read_sql_query(\"SELECT firstname, lastname, email, company, \\\n",
    "                                 invoiceid, invoicedate, billingcountry, total \\\n",
    "                                 FROM invoices \\\n",
    "                                 left join customers \\\n",
    "                                 on invoices.customerId = customers.customerId\\\n",
    "                                 \", conn)\n",
    "    return (data.to_json())\n",
    "\n",
    "@app.route('/data/get/artist/<data_name>/<name>', methods=['GET']) \n",
    "def get_artistName(data_name, name): \n",
    "    conn = sqlite3.connect(\"data/chinook.db\")\n",
    "    data = pd.read_sql_query(\"SELECT tracks.*, albums.Title, genres.Name AS GenreName,\\\n",
    "                            artists.Name AS ArtistName \\\n",
    "                            FROM tracks \\\n",
    "                            LEFT JOIN albums \\\n",
    "                            ON albums.AlbumId=tracks.AlbumId \\\n",
    "                            LEFT JOIN genres \\\n",
    "                            ON genres.GenreId=tracks.GenreId \\\n",
    "                            LEFT JOIN artists \\\n",
    "                            ON artists.ArtistId=albums.ArtistId \", conn, index_col='TrackId')\n",
    "    \n",
    "    mask = data['ArtistName'] == name\n",
    "    data = data[mask]\n",
    "    return (data.to_json())\n",
    "\n",
    "@app.route('/data/get/genre/<data_name>/<value>', methods=['GET']) \n",
    "def get_genre(data_name, value): \n",
    "    conn = sqlite3.connect(\"data/chinook.db\")\n",
    "    data = pd.read_sql_query(\"SELECT tracks.*, albums.Title, genres.Name AS GenreName,\\\n",
    "                            artists.Name AS ArtistName \\\n",
    "                            FROM tracks \\\n",
    "                            LEFT JOIN albums \\\n",
    "                            ON albums.AlbumId=tracks.AlbumId \\\n",
    "                            LEFT JOIN genres \\\n",
    "                            ON genres.GenreId=tracks.GenreId \\\n",
    "                            LEFT JOIN artists \\\n",
    "                            ON artists.ArtistId=albums.ArtistId \", conn, index_col='TrackId')\n",
    "\n",
    "    mask = data['GenreName'] == value\n",
    "    data = data[mask]\n",
    "    return (data.to_json())\n",
    "\n",
    "# mendapatkan data dengan filter nilai <value> pada kolom <column>\n",
    "@app.route('/data/get/email/<data_name>/<email>', methods=['GET']) \n",
    "def get_email(data_name, email): \n",
    "    conn = sqlite3.connect(\"data/chinook.db\")\n",
    "    data = pd.read_sql_query(\"SELECT firstname, lastname, email, company \\\n",
    "                                 invoiceid, invoiceDate , billingcountry, total \\\n",
    "                                 FROM invoices \\\n",
    "                                 left join customers \\\n",
    "                                 on invoices.customerId = customers.customerId \\\n",
    "                                 \", conn)\n",
    "    mask = data['Email'] == email\n",
    "    data = data[mask]\n",
    "    return (data.to_json())\n",
    "\n",
    "@app.route('/data/get/track/<data_name>', methods=['GET']) \n",
    "def get_track(data_name): \n",
    "    conn = sqlite3.connect(\"data/chinook.db\")\n",
    "    data = pd.read_sql_query(\"SELECT c.Country, c.FirstName, c.LastName, invoices.Total, \\\n",
    "                           invoices.InvoiceDate \\\n",
    "                           FROM customers as c \\\n",
    "                           LEFT JOIN invoices \\\n",
    "                           ON c.CustomerId = invoices.CustomerId\" ,conn)\n",
    "    return (data.to_json())\n",
    "\n",
    "if __name__ == '__main__':\n",
    "    app.run(debug=True, port=5000) "
   ]
  },
  {
   "cell_type": "markdown",
   "metadata": {},
   "source": [
    "Untuk meminta data menggunakan API yang telah ada, silakan jalankan cells berikut"
   ]
  },
  {
   "cell_type": "code",
   "execution_count": 18,
   "metadata": {},
   "outputs": [],
   "source": [
    "import requests\n",
    "import pandas as pd"
   ]
  },
  {
   "cell_type": "code",
   "execution_count": 57,
   "metadata": {},
   "outputs": [
    {
     "data": {
      "text/html": [
       "<div>\n",
       "<style scoped>\n",
       "    .dataframe tbody tr th:only-of-type {\n",
       "        vertical-align: middle;\n",
       "    }\n",
       "\n",
       "    .dataframe tbody tr th {\n",
       "        vertical-align: top;\n",
       "    }\n",
       "\n",
       "    .dataframe thead th {\n",
       "        text-align: right;\n",
       "    }\n",
       "</style>\n",
       "<table border=\"1\" class=\"dataframe\">\n",
       "  <thead>\n",
       "    <tr style=\"text-align: right;\">\n",
       "      <th></th>\n",
       "      <th>FirstName</th>\n",
       "      <th>LastName</th>\n",
       "      <th>Email</th>\n",
       "      <th>Company</th>\n",
       "      <th>InvoiceId</th>\n",
       "      <th>InvoiceDate</th>\n",
       "      <th>BillingCountry</th>\n",
       "      <th>Total</th>\n",
       "    </tr>\n",
       "  </thead>\n",
       "  <tbody>\n",
       "    <tr>\n",
       "      <td>0</td>\n",
       "      <td>Leonie</td>\n",
       "      <td>Köhler</td>\n",
       "      <td>leonekohler@surfeu.de</td>\n",
       "      <td>None</td>\n",
       "      <td>1</td>\n",
       "      <td>2009-01-01 00:00:00</td>\n",
       "      <td>Germany</td>\n",
       "      <td>1.98</td>\n",
       "    </tr>\n",
       "    <tr>\n",
       "      <td>1</td>\n",
       "      <td>Bjørn</td>\n",
       "      <td>Hansen</td>\n",
       "      <td>bjorn.hansen@yahoo.no</td>\n",
       "      <td>None</td>\n",
       "      <td>2</td>\n",
       "      <td>2009-01-02 00:00:00</td>\n",
       "      <td>Norway</td>\n",
       "      <td>3.96</td>\n",
       "    </tr>\n",
       "    <tr>\n",
       "      <td>2</td>\n",
       "      <td>Daan</td>\n",
       "      <td>Peeters</td>\n",
       "      <td>daan_peeters@apple.be</td>\n",
       "      <td>None</td>\n",
       "      <td>3</td>\n",
       "      <td>2009-01-03 00:00:00</td>\n",
       "      <td>Belgium</td>\n",
       "      <td>5.94</td>\n",
       "    </tr>\n",
       "    <tr>\n",
       "      <td>3</td>\n",
       "      <td>Mark</td>\n",
       "      <td>Philips</td>\n",
       "      <td>mphilips12@shaw.ca</td>\n",
       "      <td>Telus</td>\n",
       "      <td>4</td>\n",
       "      <td>2009-01-06 00:00:00</td>\n",
       "      <td>Canada</td>\n",
       "      <td>8.91</td>\n",
       "    </tr>\n",
       "    <tr>\n",
       "      <td>4</td>\n",
       "      <td>John</td>\n",
       "      <td>Gordon</td>\n",
       "      <td>johngordon22@yahoo.com</td>\n",
       "      <td>None</td>\n",
       "      <td>5</td>\n",
       "      <td>2009-01-11 00:00:00</td>\n",
       "      <td>USA</td>\n",
       "      <td>13.86</td>\n",
       "    </tr>\n",
       "  </tbody>\n",
       "</table>\n",
       "</div>"
      ],
      "text/plain": [
       "  FirstName LastName                   Email Company  InvoiceId  \\\n",
       "0    Leonie   Köhler   leonekohler@surfeu.de    None          1   \n",
       "1     Bjørn   Hansen   bjorn.hansen@yahoo.no    None          2   \n",
       "2      Daan  Peeters   daan_peeters@apple.be    None          3   \n",
       "3      Mark  Philips      mphilips12@shaw.ca   Telus          4   \n",
       "4      John   Gordon  johngordon22@yahoo.com    None          5   \n",
       "\n",
       "           InvoiceDate BillingCountry  Total  \n",
       "0  2009-01-01 00:00:00        Germany   1.98  \n",
       "1  2009-01-02 00:00:00         Norway   3.96  \n",
       "2  2009-01-03 00:00:00        Belgium   5.94  \n",
       "3  2009-01-06 00:00:00         Canada   8.91  \n",
       "4  2009-01-11 00:00:00            USA  13.86  "
      ]
     },
     "execution_count": 57,
     "metadata": {},
     "output_type": "execute_result"
    }
   ],
   "source": [
    "url1 = 'http://localhost:5000/data/get/chinook.db'\n",
    "r = requests.get(url1)\n",
    "r_pd = pd.DataFrame(r.json())\n",
    "r_pd.head()"
   ]
  },
  {
   "cell_type": "code",
   "execution_count": 58,
   "metadata": {},
   "outputs": [
    {
     "data": {
      "text/html": [
       "<div>\n",
       "<style scoped>\n",
       "    .dataframe tbody tr th:only-of-type {\n",
       "        vertical-align: middle;\n",
       "    }\n",
       "\n",
       "    .dataframe tbody tr th {\n",
       "        vertical-align: top;\n",
       "    }\n",
       "\n",
       "    .dataframe thead th {\n",
       "        text-align: right;\n",
       "    }\n",
       "</style>\n",
       "<table border=\"1\" class=\"dataframe\">\n",
       "  <thead>\n",
       "    <tr style=\"text-align: right;\">\n",
       "      <th></th>\n",
       "      <th>Name</th>\n",
       "      <th>AlbumId</th>\n",
       "      <th>MediaTypeId</th>\n",
       "      <th>GenreId</th>\n",
       "      <th>Composer</th>\n",
       "      <th>Milliseconds</th>\n",
       "      <th>Bytes</th>\n",
       "      <th>UnitPrice</th>\n",
       "      <th>Title</th>\n",
       "      <th>GenreName</th>\n",
       "      <th>ArtistName</th>\n",
       "    </tr>\n",
       "  </thead>\n",
       "  <tbody>\n",
       "    <tr>\n",
       "      <td>2</td>\n",
       "      <td>Balls to the Wall</td>\n",
       "      <td>2</td>\n",
       "      <td>2</td>\n",
       "      <td>1</td>\n",
       "      <td>None</td>\n",
       "      <td>342562</td>\n",
       "      <td>5510424</td>\n",
       "      <td>0.99</td>\n",
       "      <td>Balls to the Wall</td>\n",
       "      <td>Rock</td>\n",
       "      <td>Accept</td>\n",
       "    </tr>\n",
       "    <tr>\n",
       "      <td>3</td>\n",
       "      <td>Fast As a Shark</td>\n",
       "      <td>3</td>\n",
       "      <td>2</td>\n",
       "      <td>1</td>\n",
       "      <td>F. Baltes, S. Kaufman, U. Dirkscneider &amp; W. Ho...</td>\n",
       "      <td>230619</td>\n",
       "      <td>3990994</td>\n",
       "      <td>0.99</td>\n",
       "      <td>Restless and Wild</td>\n",
       "      <td>Rock</td>\n",
       "      <td>Accept</td>\n",
       "    </tr>\n",
       "    <tr>\n",
       "      <td>4</td>\n",
       "      <td>Restless and Wild</td>\n",
       "      <td>3</td>\n",
       "      <td>2</td>\n",
       "      <td>1</td>\n",
       "      <td>F. Baltes, R.A. Smith-Diesel, S. Kaufman, U. D...</td>\n",
       "      <td>252051</td>\n",
       "      <td>4331779</td>\n",
       "      <td>0.99</td>\n",
       "      <td>Restless and Wild</td>\n",
       "      <td>Rock</td>\n",
       "      <td>Accept</td>\n",
       "    </tr>\n",
       "    <tr>\n",
       "      <td>5</td>\n",
       "      <td>Princess of the Dawn</td>\n",
       "      <td>3</td>\n",
       "      <td>2</td>\n",
       "      <td>1</td>\n",
       "      <td>Deaffy &amp; R.A. Smith-Diesel</td>\n",
       "      <td>375418</td>\n",
       "      <td>6290521</td>\n",
       "      <td>0.99</td>\n",
       "      <td>Restless and Wild</td>\n",
       "      <td>Rock</td>\n",
       "      <td>Accept</td>\n",
       "    </tr>\n",
       "  </tbody>\n",
       "</table>\n",
       "</div>"
      ],
      "text/plain": [
       "                   Name  AlbumId  MediaTypeId  GenreId  \\\n",
       "2     Balls to the Wall        2            2        1   \n",
       "3       Fast As a Shark        3            2        1   \n",
       "4     Restless and Wild        3            2        1   \n",
       "5  Princess of the Dawn        3            2        1   \n",
       "\n",
       "                                            Composer  Milliseconds    Bytes  \\\n",
       "2                                               None        342562  5510424   \n",
       "3  F. Baltes, S. Kaufman, U. Dirkscneider & W. Ho...        230619  3990994   \n",
       "4  F. Baltes, R.A. Smith-Diesel, S. Kaufman, U. D...        252051  4331779   \n",
       "5                         Deaffy & R.A. Smith-Diesel        375418  6290521   \n",
       "\n",
       "   UnitPrice              Title GenreName ArtistName  \n",
       "2       0.99  Balls to the Wall      Rock     Accept  \n",
       "3       0.99  Restless and Wild      Rock     Accept  \n",
       "4       0.99  Restless and Wild      Rock     Accept  \n",
       "5       0.99  Restless and Wild      Rock     Accept  "
      ]
     },
     "execution_count": 58,
     "metadata": {},
     "output_type": "execute_result"
    }
   ],
   "source": [
    "url2 = 'http://localhost:5000/data/get/artist/chinook.db/Accept'\n",
    "r = requests.get(url2)\n",
    "r_pd = pd.DataFrame(r.json())\n",
    "r_pd"
   ]
  },
  {
   "cell_type": "code",
   "execution_count": 59,
   "metadata": {},
   "outputs": [
    {
     "data": {
      "text/html": [
       "<div>\n",
       "<style scoped>\n",
       "    .dataframe tbody tr th:only-of-type {\n",
       "        vertical-align: middle;\n",
       "    }\n",
       "\n",
       "    .dataframe tbody tr th {\n",
       "        vertical-align: top;\n",
       "    }\n",
       "\n",
       "    .dataframe thead th {\n",
       "        text-align: right;\n",
       "    }\n",
       "</style>\n",
       "<table border=\"1\" class=\"dataframe\">\n",
       "  <thead>\n",
       "    <tr style=\"text-align: right;\">\n",
       "      <th></th>\n",
       "      <th>Name</th>\n",
       "      <th>AlbumId</th>\n",
       "      <th>MediaTypeId</th>\n",
       "      <th>GenreId</th>\n",
       "      <th>Composer</th>\n",
       "      <th>Milliseconds</th>\n",
       "      <th>Bytes</th>\n",
       "      <th>UnitPrice</th>\n",
       "      <th>Title</th>\n",
       "      <th>GenreName</th>\n",
       "      <th>ArtistName</th>\n",
       "    </tr>\n",
       "  </thead>\n",
       "  <tbody>\n",
       "    <tr>\n",
       "      <td>2530</td>\n",
       "      <td>Little Linda</td>\n",
       "      <td>204</td>\n",
       "      <td>1</td>\n",
       "      <td>2</td>\n",
       "      <td>Jeremy Wall</td>\n",
       "      <td>264019</td>\n",
       "      <td>8958743</td>\n",
       "      <td>0.99</td>\n",
       "      <td>Morning Dance</td>\n",
       "      <td>Jazz</td>\n",
       "      <td>Spyro Gyra</td>\n",
       "    </tr>\n",
       "    <tr>\n",
       "      <td>2531</td>\n",
       "      <td>End Of Romanticism</td>\n",
       "      <td>204</td>\n",
       "      <td>1</td>\n",
       "      <td>2</td>\n",
       "      <td>Rick Strauss</td>\n",
       "      <td>320078</td>\n",
       "      <td>10553155</td>\n",
       "      <td>0.99</td>\n",
       "      <td>Morning Dance</td>\n",
       "      <td>Jazz</td>\n",
       "      <td>Spyro Gyra</td>\n",
       "    </tr>\n",
       "    <tr>\n",
       "      <td>3349</td>\n",
       "      <td>Amanda</td>\n",
       "      <td>262</td>\n",
       "      <td>5</td>\n",
       "      <td>2</td>\n",
       "      <td>Luca Gusella</td>\n",
       "      <td>246503</td>\n",
       "      <td>4011615</td>\n",
       "      <td>0.99</td>\n",
       "      <td>Quiet Songs</td>\n",
       "      <td>Jazz</td>\n",
       "      <td>Aisha Duo</td>\n",
       "    </tr>\n",
       "    <tr>\n",
       "      <td>3350</td>\n",
       "      <td>Despertar</td>\n",
       "      <td>262</td>\n",
       "      <td>5</td>\n",
       "      <td>2</td>\n",
       "      <td>Andrea Dulbecco</td>\n",
       "      <td>307385</td>\n",
       "      <td>4821485</td>\n",
       "      <td>0.99</td>\n",
       "      <td>Quiet Songs</td>\n",
       "      <td>Jazz</td>\n",
       "      <td>Aisha Duo</td>\n",
       "    </tr>\n",
       "    <tr>\n",
       "      <td>3357</td>\n",
       "      <td>OAM's Blues</td>\n",
       "      <td>267</td>\n",
       "      <td>5</td>\n",
       "      <td>2</td>\n",
       "      <td>Aaron Goldberg</td>\n",
       "      <td>266936</td>\n",
       "      <td>4292028</td>\n",
       "      <td>0.99</td>\n",
       "      <td>Worlds</td>\n",
       "      <td>Jazz</td>\n",
       "      <td>Aaron Goldberg</td>\n",
       "    </tr>\n",
       "  </tbody>\n",
       "</table>\n",
       "</div>"
      ],
      "text/plain": [
       "                    Name  AlbumId  MediaTypeId  GenreId         Composer  \\\n",
       "2530        Little Linda      204            1        2      Jeremy Wall   \n",
       "2531  End Of Romanticism      204            1        2     Rick Strauss   \n",
       "3349              Amanda      262            5        2     Luca Gusella   \n",
       "3350           Despertar      262            5        2  Andrea Dulbecco   \n",
       "3357         OAM's Blues      267            5        2   Aaron Goldberg   \n",
       "\n",
       "      Milliseconds     Bytes  UnitPrice          Title GenreName  \\\n",
       "2530        264019   8958743       0.99  Morning Dance      Jazz   \n",
       "2531        320078  10553155       0.99  Morning Dance      Jazz   \n",
       "3349        246503   4011615       0.99    Quiet Songs      Jazz   \n",
       "3350        307385   4821485       0.99    Quiet Songs      Jazz   \n",
       "3357        266936   4292028       0.99         Worlds      Jazz   \n",
       "\n",
       "          ArtistName  \n",
       "2530      Spyro Gyra  \n",
       "2531      Spyro Gyra  \n",
       "3349       Aisha Duo  \n",
       "3350       Aisha Duo  \n",
       "3357  Aaron Goldberg  "
      ]
     },
     "execution_count": 59,
     "metadata": {},
     "output_type": "execute_result"
    }
   ],
   "source": [
    "url3 = 'http://localhost:5000/data/get/genre/chinook.db/Jazz'\n",
    "r = requests.get(url3)\n",
    "r_pd = pd.DataFrame(r.json())\n",
    "r_pd.tail()"
   ]
  },
  {
   "cell_type": "code",
   "execution_count": 60,
   "metadata": {},
   "outputs": [
    {
     "data": {
      "text/html": [
       "<div>\n",
       "<style scoped>\n",
       "    .dataframe tbody tr th:only-of-type {\n",
       "        vertical-align: middle;\n",
       "    }\n",
       "\n",
       "    .dataframe tbody tr th {\n",
       "        vertical-align: top;\n",
       "    }\n",
       "\n",
       "    .dataframe thead th {\n",
       "        text-align: right;\n",
       "    }\n",
       "</style>\n",
       "<table border=\"1\" class=\"dataframe\">\n",
       "  <thead>\n",
       "    <tr style=\"text-align: right;\">\n",
       "      <th></th>\n",
       "      <th>FirstName</th>\n",
       "      <th>LastName</th>\n",
       "      <th>Email</th>\n",
       "      <th>invoiceid</th>\n",
       "      <th>InvoiceDate</th>\n",
       "      <th>BillingCountry</th>\n",
       "      <th>Total</th>\n",
       "    </tr>\n",
       "  </thead>\n",
       "  <tbody>\n",
       "    <tr>\n",
       "      <td>75</td>\n",
       "      <td>Bjørn</td>\n",
       "      <td>Hansen</td>\n",
       "      <td>bjorn.hansen@yahoo.no</td>\n",
       "      <td>None</td>\n",
       "      <td>2009-11-25 00:00:00</td>\n",
       "      <td>Norway</td>\n",
       "      <td>0.99</td>\n",
       "    </tr>\n",
       "    <tr>\n",
       "      <td>196</td>\n",
       "      <td>Bjørn</td>\n",
       "      <td>Hansen</td>\n",
       "      <td>bjorn.hansen@yahoo.no</td>\n",
       "      <td>None</td>\n",
       "      <td>2011-05-19 00:00:00</td>\n",
       "      <td>Norway</td>\n",
       "      <td>1.98</td>\n",
       "    </tr>\n",
       "    <tr>\n",
       "      <td>207</td>\n",
       "      <td>Bjørn</td>\n",
       "      <td>Hansen</td>\n",
       "      <td>bjorn.hansen@yahoo.no</td>\n",
       "      <td>None</td>\n",
       "      <td>2011-06-29 00:00:00</td>\n",
       "      <td>Norway</td>\n",
       "      <td>15.86</td>\n",
       "    </tr>\n",
       "    <tr>\n",
       "      <td>262</td>\n",
       "      <td>Bjørn</td>\n",
       "      <td>Hansen</td>\n",
       "      <td>bjorn.hansen@yahoo.no</td>\n",
       "      <td>None</td>\n",
       "      <td>2012-02-27 00:00:00</td>\n",
       "      <td>Norway</td>\n",
       "      <td>8.91</td>\n",
       "    </tr>\n",
       "    <tr>\n",
       "      <td>391</td>\n",
       "      <td>Bjørn</td>\n",
       "      <td>Hansen</td>\n",
       "      <td>bjorn.hansen@yahoo.no</td>\n",
       "      <td>None</td>\n",
       "      <td>2013-10-03 00:00:00</td>\n",
       "      <td>Norway</td>\n",
       "      <td>1.98</td>\n",
       "    </tr>\n",
       "  </tbody>\n",
       "</table>\n",
       "</div>"
      ],
      "text/plain": [
       "    FirstName LastName                  Email invoiceid          InvoiceDate  \\\n",
       "75      Bjørn   Hansen  bjorn.hansen@yahoo.no      None  2009-11-25 00:00:00   \n",
       "196     Bjørn   Hansen  bjorn.hansen@yahoo.no      None  2011-05-19 00:00:00   \n",
       "207     Bjørn   Hansen  bjorn.hansen@yahoo.no      None  2011-06-29 00:00:00   \n",
       "262     Bjørn   Hansen  bjorn.hansen@yahoo.no      None  2012-02-27 00:00:00   \n",
       "391     Bjørn   Hansen  bjorn.hansen@yahoo.no      None  2013-10-03 00:00:00   \n",
       "\n",
       "    BillingCountry  Total  \n",
       "75          Norway   0.99  \n",
       "196         Norway   1.98  \n",
       "207         Norway  15.86  \n",
       "262         Norway   8.91  \n",
       "391         Norway   1.98  "
      ]
     },
     "execution_count": 60,
     "metadata": {},
     "output_type": "execute_result"
    }
   ],
   "source": [
    "url4 = 'http://localhost:5000/data/get/email/chinook.db/bjorn.hansen@yahoo.no'\n",
    "r = requests.get(url4)\n",
    "r_pd = pd.DataFrame(r.json())\n",
    "r_pd.tail()"
   ]
  },
  {
   "cell_type": "code",
   "execution_count": 61,
   "metadata": {},
   "outputs": [
    {
     "data": {
      "text/html": [
       "<div>\n",
       "<style scoped>\n",
       "    .dataframe tbody tr th:only-of-type {\n",
       "        vertical-align: middle;\n",
       "    }\n",
       "\n",
       "    .dataframe tbody tr th {\n",
       "        vertical-align: top;\n",
       "    }\n",
       "\n",
       "    .dataframe thead th {\n",
       "        text-align: right;\n",
       "    }\n",
       "</style>\n",
       "<table border=\"1\" class=\"dataframe\">\n",
       "  <thead>\n",
       "    <tr style=\"text-align: right;\">\n",
       "      <th></th>\n",
       "      <th>Country</th>\n",
       "      <th>FirstName</th>\n",
       "      <th>LastName</th>\n",
       "      <th>Total</th>\n",
       "      <th>InvoiceDate</th>\n",
       "    </tr>\n",
       "  </thead>\n",
       "  <tbody>\n",
       "    <tr>\n",
       "      <td>407</td>\n",
       "      <td>India</td>\n",
       "      <td>Puja</td>\n",
       "      <td>Srivastava</td>\n",
       "      <td>5.94</td>\n",
       "      <td>2009-07-08 00:00:00</td>\n",
       "    </tr>\n",
       "    <tr>\n",
       "      <td>408</td>\n",
       "      <td>India</td>\n",
       "      <td>Puja</td>\n",
       "      <td>Srivastava</td>\n",
       "      <td>1.99</td>\n",
       "      <td>2010-02-26 00:00:00</td>\n",
       "    </tr>\n",
       "    <tr>\n",
       "      <td>409</td>\n",
       "      <td>India</td>\n",
       "      <td>Puja</td>\n",
       "      <td>Srivastava</td>\n",
       "      <td>1.98</td>\n",
       "      <td>2011-08-20 00:00:00</td>\n",
       "    </tr>\n",
       "    <tr>\n",
       "      <td>410</td>\n",
       "      <td>India</td>\n",
       "      <td>Puja</td>\n",
       "      <td>Srivastava</td>\n",
       "      <td>13.86</td>\n",
       "      <td>2011-09-30 00:00:00</td>\n",
       "    </tr>\n",
       "    <tr>\n",
       "      <td>411</td>\n",
       "      <td>India</td>\n",
       "      <td>Puja</td>\n",
       "      <td>Srivastava</td>\n",
       "      <td>8.91</td>\n",
       "      <td>2012-05-30 00:00:00</td>\n",
       "    </tr>\n",
       "  </tbody>\n",
       "</table>\n",
       "</div>"
      ],
      "text/plain": [
       "    Country FirstName    LastName  Total          InvoiceDate\n",
       "407   India      Puja  Srivastava   5.94  2009-07-08 00:00:00\n",
       "408   India      Puja  Srivastava   1.99  2010-02-26 00:00:00\n",
       "409   India      Puja  Srivastava   1.98  2011-08-20 00:00:00\n",
       "410   India      Puja  Srivastava  13.86  2011-09-30 00:00:00\n",
       "411   India      Puja  Srivastava   8.91  2012-05-30 00:00:00"
      ]
     },
     "execution_count": 61,
     "metadata": {},
     "output_type": "execute_result"
    }
   ],
   "source": [
    "url5 = 'http://localhost:5000/data/get/track/chinook.db'\n",
    "r = requests.get(url5)\n",
    "r_pd = pd.DataFrame(r.json())\n",
    "r_pd.tail()"
   ]
  },
  {
   "cell_type": "markdown",
   "metadata": {},
   "source": [
    "Dari contoh diatas, kita sudah dapat melakukan fetching data menggunakan API dan seberapa bermanfaatnya melakukan dynamic routing. Kedepannya, diharapkan pengetahuan ini dapat dikembangkan dengan melakukan fetching data dari database. "
   ]
  },
  {
   "cell_type": "markdown",
   "metadata": {},
   "source": [
    "## Deploying Flask APP "
   ]
  },
  {
   "cell_type": "markdown",
   "metadata": {},
   "source": [
    "Sekarang, setelah Flask App kita sudah berhasil dijalankan, kita akan coba deploy app tersebut **(beserta environmentnya)** ke app hosting/web hosting/cloud. Untuk saat ini, kita akan menggunakan [heroku](https://www.heroku.com/) karena **gratis**. Untuk melakukan deployment, silakan registrasi akun baru. \n",
    "\n",
    "Langkah ini dapat kalian ikuti pada [sumber ini](https://stackabuse.com/deploying-a-flask-application-to-heroku/)"
   ]
  },
  {
   "cell_type": "markdown",
   "metadata": {},
   "source": [
    "### Get the requirements"
   ]
  },
  {
   "cell_type": "markdown",
   "metadata": {},
   "source": [
    "Silakan buat environment baru, lalu hanya install `pandas`, `flask`, dan `gunicorn`. Setelah libary tersebut berhasil diinstal, jalankan `pip freeze > requirements.txt` untuk mengeksport semua library kedalam file `requirements.txt`. Perlu diingat bahwa Heroku hanya bisa mengenali libary yang kita pakai jika kita menuliskannya kedalam requirements.txt"
   ]
  },
  {
   "cell_type": "markdown",
   "metadata": {},
   "source": [
    "### Create Heroku App\n",
    "Untuk membuat heroku app, cukup klik new->app pada dashboard heroku. Perlu diingat bahwa nama app di heroku haruslah unik. "
   ]
  },
  {
   "cell_type": "markdown",
   "metadata": {},
   "source": [
    "### Deployment"
   ]
  },
  {
   "cell_type": "markdown",
   "metadata": {},
   "source": [
    "Setelah kita membuat dan menamai app kita di heroku, kita harus mengupload file app kita dari lokal. Untuk melakukan hal ini, kita akan menggunakan git. Cara termudah adalah dengan membuat repository baru di github, lalu sambungkan aplikasi heroku degan repository github tersebut. \n",
    "![](res/deploy-1.PNG)\n",
    "\n",
    "Nyalakan `Automatic Deploy` jika ingin melakukan deployment ulang setiap terjadi perubahan pada repositoy secara otomatis (kurang disarankan). Setelah repository terhubung, klik tombol deploy branch yang berada di bagian bawah app heroku (jika tidak ada branch pada repository github, secara default branch master yang akan dipilih). \n",
    "\n",
    "![](res/deploy-2.PNG)"
   ]
  },
  {
   "cell_type": "markdown",
   "metadata": {},
   "source": [
    "# Test Your API Endpoints"
   ]
  },
  {
   "cell_type": "markdown",
   "metadata": {},
   "source": [
    "Setelah deployment app kita behasil, kita bisa mencoba mengaksesnya melalui browser, atau jupyter notebook(lebih disarankan). Mari coba beberapa endpoints yang telah kita coba lakukan di lokal. \n",
    "\n",
    "Untuk catatan, tidak perlu menuliskan port pada url heroku, karena kita sudah mengaturnya pada file `Procfile`"
   ]
  },
  {
   "cell_type": "code",
   "execution_count": 4,
   "metadata": {},
   "outputs": [
    {
     "data": {
      "text/html": [
       "<div>\n",
       "<style scoped>\n",
       "    .dataframe tbody tr th:only-of-type {\n",
       "        vertical-align: middle;\n",
       "    }\n",
       "\n",
       "    .dataframe tbody tr th {\n",
       "        vertical-align: top;\n",
       "    }\n",
       "\n",
       "    .dataframe thead th {\n",
       "        text-align: right;\n",
       "    }\n",
       "</style>\n",
       "<table border=\"1\" class=\"dataframe\">\n",
       "  <thead>\n",
       "    <tr style=\"text-align: right;\">\n",
       "      <th></th>\n",
       "      <th>bookID</th>\n",
       "      <th>title</th>\n",
       "      <th>authors</th>\n",
       "      <th>average_rating</th>\n",
       "      <th>isbn</th>\n",
       "      <th>isbn13</th>\n",
       "      <th>language_code</th>\n",
       "      <th># num_pages</th>\n",
       "      <th>ratings_count</th>\n",
       "      <th>text_reviews_count</th>\n",
       "    </tr>\n",
       "  </thead>\n",
       "  <tbody>\n",
       "    <tr>\n",
       "      <td>0</td>\n",
       "      <td>1</td>\n",
       "      <td>Harry Potter and the Half-Blood Prince (Harry ...</td>\n",
       "      <td>J.K. Rowling</td>\n",
       "      <td>4.56</td>\n",
       "      <td>0439785960</td>\n",
       "      <td>9780439785969</td>\n",
       "      <td>eng</td>\n",
       "      <td>652</td>\n",
       "      <td>1944099</td>\n",
       "      <td>26249</td>\n",
       "    </tr>\n",
       "    <tr>\n",
       "      <td>1</td>\n",
       "      <td>2</td>\n",
       "      <td>Harry Potter and the Order of the Phoenix (Har...</td>\n",
       "      <td>J.K. Rowling</td>\n",
       "      <td>4.49</td>\n",
       "      <td>0439358078</td>\n",
       "      <td>9780439358071</td>\n",
       "      <td>eng</td>\n",
       "      <td>870</td>\n",
       "      <td>1996446</td>\n",
       "      <td>27613</td>\n",
       "    </tr>\n",
       "    <tr>\n",
       "      <td>2</td>\n",
       "      <td>3</td>\n",
       "      <td>Harry Potter and the Sorcerer's Stone (Harry P...</td>\n",
       "      <td>J.K. Rowling</td>\n",
       "      <td>4.47</td>\n",
       "      <td>0439554934</td>\n",
       "      <td>9780439554930</td>\n",
       "      <td>eng</td>\n",
       "      <td>320</td>\n",
       "      <td>5629932</td>\n",
       "      <td>70390</td>\n",
       "    </tr>\n",
       "    <tr>\n",
       "      <td>3</td>\n",
       "      <td>4</td>\n",
       "      <td>Harry Potter and the Chamber of Secrets (Harry...</td>\n",
       "      <td>J.K. Rowling</td>\n",
       "      <td>4.41</td>\n",
       "      <td>0439554896</td>\n",
       "      <td>9780439554893</td>\n",
       "      <td>eng</td>\n",
       "      <td>352</td>\n",
       "      <td>6267</td>\n",
       "      <td>272</td>\n",
       "    </tr>\n",
       "    <tr>\n",
       "      <td>4</td>\n",
       "      <td>5</td>\n",
       "      <td>Harry Potter and the Prisoner of Azkaban (Harr...</td>\n",
       "      <td>J.K. Rowling</td>\n",
       "      <td>4.55</td>\n",
       "      <td>043965548X</td>\n",
       "      <td>9780439655484</td>\n",
       "      <td>eng</td>\n",
       "      <td>435</td>\n",
       "      <td>2149872</td>\n",
       "      <td>33964</td>\n",
       "    </tr>\n",
       "    <tr>\n",
       "      <td>...</td>\n",
       "      <td>...</td>\n",
       "      <td>...</td>\n",
       "      <td>...</td>\n",
       "      <td>...</td>\n",
       "      <td>...</td>\n",
       "      <td>...</td>\n",
       "      <td>...</td>\n",
       "      <td>...</td>\n",
       "      <td>...</td>\n",
       "      <td>...</td>\n",
       "    </tr>\n",
       "    <tr>\n",
       "      <td>13709</td>\n",
       "      <td>47699</td>\n",
       "      <td>M Is for Magic</td>\n",
       "      <td>Neil Gaiman-Teddy Kristiansen</td>\n",
       "      <td>3.82</td>\n",
       "      <td>0061186422</td>\n",
       "      <td>9780061186424</td>\n",
       "      <td>eng</td>\n",
       "      <td>260</td>\n",
       "      <td>11317</td>\n",
       "      <td>1060</td>\n",
       "    </tr>\n",
       "    <tr>\n",
       "      <td>13710</td>\n",
       "      <td>47700</td>\n",
       "      <td>Black Orchid</td>\n",
       "      <td>Neil Gaiman-Dave McKean</td>\n",
       "      <td>3.72</td>\n",
       "      <td>0930289552</td>\n",
       "      <td>9780930289553</td>\n",
       "      <td>eng</td>\n",
       "      <td>160</td>\n",
       "      <td>8710</td>\n",
       "      <td>361</td>\n",
       "    </tr>\n",
       "    <tr>\n",
       "      <td>13711</td>\n",
       "      <td>47701</td>\n",
       "      <td>InterWorld (InterWorld  #1)</td>\n",
       "      <td>Neil Gaiman-Michael Reaves</td>\n",
       "      <td>3.53</td>\n",
       "      <td>0061238961</td>\n",
       "      <td>9780061238963</td>\n",
       "      <td>en-US</td>\n",
       "      <td>239</td>\n",
       "      <td>14334</td>\n",
       "      <td>1485</td>\n",
       "    </tr>\n",
       "    <tr>\n",
       "      <td>13712</td>\n",
       "      <td>47708</td>\n",
       "      <td>The Faeries' Oracle</td>\n",
       "      <td>Brian Froud-Jessica Macbeth</td>\n",
       "      <td>4.43</td>\n",
       "      <td>0743201116</td>\n",
       "      <td>9780743201117</td>\n",
       "      <td>eng</td>\n",
       "      <td>224</td>\n",
       "      <td>1550</td>\n",
       "      <td>38</td>\n",
       "    </tr>\n",
       "    <tr>\n",
       "      <td>13713</td>\n",
       "      <td>47709</td>\n",
       "      <td>The World of The Dark Crystal</td>\n",
       "      <td>Brian Froud</td>\n",
       "      <td>4.29</td>\n",
       "      <td>1862056242</td>\n",
       "      <td>9781862056244</td>\n",
       "      <td>eng</td>\n",
       "      <td>132</td>\n",
       "      <td>3572</td>\n",
       "      <td>33</td>\n",
       "    </tr>\n",
       "  </tbody>\n",
       "</table>\n",
       "<p>13714 rows × 10 columns</p>\n",
       "</div>"
      ],
      "text/plain": [
       "       bookID                                              title  \\\n",
       "0           1  Harry Potter and the Half-Blood Prince (Harry ...   \n",
       "1           2  Harry Potter and the Order of the Phoenix (Har...   \n",
       "2           3  Harry Potter and the Sorcerer's Stone (Harry P...   \n",
       "3           4  Harry Potter and the Chamber of Secrets (Harry...   \n",
       "4           5  Harry Potter and the Prisoner of Azkaban (Harr...   \n",
       "...       ...                                                ...   \n",
       "13709   47699                                     M Is for Magic   \n",
       "13710   47700                                       Black Orchid   \n",
       "13711   47701                        InterWorld (InterWorld  #1)   \n",
       "13712   47708                                The Faeries' Oracle   \n",
       "13713   47709                      The World of The Dark Crystal   \n",
       "\n",
       "                             authors  average_rating        isbn  \\\n",
       "0                       J.K. Rowling            4.56  0439785960   \n",
       "1                       J.K. Rowling            4.49  0439358078   \n",
       "2                       J.K. Rowling            4.47  0439554934   \n",
       "3                       J.K. Rowling            4.41  0439554896   \n",
       "4                       J.K. Rowling            4.55  043965548X   \n",
       "...                              ...             ...         ...   \n",
       "13709  Neil Gaiman-Teddy Kristiansen            3.82  0061186422   \n",
       "13710        Neil Gaiman-Dave McKean            3.72  0930289552   \n",
       "13711     Neil Gaiman-Michael Reaves            3.53  0061238961   \n",
       "13712    Brian Froud-Jessica Macbeth            4.43  0743201116   \n",
       "13713                    Brian Froud            4.29  1862056242   \n",
       "\n",
       "              isbn13 language_code  # num_pages  ratings_count  \\\n",
       "0      9780439785969           eng          652        1944099   \n",
       "1      9780439358071           eng          870        1996446   \n",
       "2      9780439554930           eng          320        5629932   \n",
       "3      9780439554893           eng          352           6267   \n",
       "4      9780439655484           eng          435        2149872   \n",
       "...              ...           ...          ...            ...   \n",
       "13709  9780061186424           eng          260          11317   \n",
       "13710  9780930289553           eng          160           8710   \n",
       "13711  9780061238963         en-US          239          14334   \n",
       "13712  9780743201117           eng          224           1550   \n",
       "13713  9781862056244           eng          132           3572   \n",
       "\n",
       "       text_reviews_count  \n",
       "0                   26249  \n",
       "1                   27613  \n",
       "2                   70390  \n",
       "3                     272  \n",
       "4                   33964  \n",
       "...                   ...  \n",
       "13709                1060  \n",
       "13710                 361  \n",
       "13711                1485  \n",
       "13712                  38  \n",
       "13713                  33  \n",
       "\n",
       "[13714 rows x 10 columns]"
      ]
     },
     "execution_count": 4,
     "metadata": {},
     "output_type": "execute_result"
    }
   ],
   "source": [
    "import requests\n",
    "import pandas as pd \n",
    "heroku_url = 'https://algo-capstone.herokuapp.com/data/get/books_c.csv'\n",
    "r = requests.get(heroku_url)\n",
    "r_pd = pd.DataFrame(r.json())\n",
    "r_pd"
   ]
  },
  {
   "cell_type": "markdown",
   "metadata": {},
   "source": [
    "# Document your API"
   ]
  },
  {
   "cell_type": "markdown",
   "metadata": {},
   "source": [
    "Hal terpenting dalam pembuatan API adalah dokumentasi. Menjadi pembangun aplikasi yang handal akan percuma jika user tidak tahu cara menggunakannya. Hal ini juga memudahkan kami untuk menginspeksi dan menilai captsone kalian. Oleh karena itu, kita akan mencoba membuat dokumentasi API sederhana dengan format : \n",
    "- Deskripsi Utama \n",
    "- Endpoints\n",
    "___\n",
    "```\n",
    "Deskripsi: \n",
    "API ini dinominasikan sebagai capstone project yang berguna untuk mengirimkan data kepada user. Proses wrangling dilakukan sesuai endpoint-endpoint yang dimaksud. Base url dari aplikasi ini adalah https://algo-capstone.herokuapp.com\n",
    "\n",
    "Endpoints: \n",
    "    1. / , method = GET\n",
    "    Merupakan endpoint home, dan akan mengembalikan nilai berupa string selamat datang\n",
    "    \n",
    "    2. /data/get/<data_name> , method = GET\n",
    "    Mengembalikan data <data_name> dalam bentuk JSON. Beberapa data yang tersedia adalah : \n",
    "        - books_c.csv\n",
    "        - pulsar_stars.csv (tidak digunakan, hanya contoh saja)\n",
    "        \n",
    "    3. /data/get/equal/<data_name>/<column>/<value>\n",
    "    Mengembalikan <data_name> yang telah di filter dimana nilai pada <column> = <value>\n",
    "\n",
    "```\n",
    "___"
   ]
  },
  {
   "cell_type": "markdown",
   "metadata": {},
   "source": [
    "# Tips "
   ]
  },
  {
   "cell_type": "markdown",
   "metadata": {},
   "source": [
    "Jika kalian merasa sedikit kesulitan untuk menentukan apa informasi yang akan dikirimkan dalam sebuah endpoint (membuat endpoint), cobalah beralih ke sudut pandang user. Sebagai user, informasi apa yang ingin kita dapatkan dari data tersebut? Akan ada sangat banyak kemungkinan yang bisa diambil. Kalian bisa melakukannya! \n",
    "\n",
    "Happy Coding !\n",
    "~ Team Algoritma"
   ]
  }
 ],
 "metadata": {
  "hide_input": false,
  "kernelspec": {
   "display_name": "NewEnv",
   "language": "python",
   "name": "newenv"
  },
  "language_info": {
   "codemirror_mode": {
    "name": "ipython",
    "version": 3
   },
   "file_extension": ".py",
   "mimetype": "text/x-python",
   "name": "python",
   "nbconvert_exporter": "python",
   "pygments_lexer": "ipython3",
   "version": "3.7.4"
  },
  "latex_envs": {
   "LaTeX_envs_menu_present": true,
   "autoclose": true,
   "autocomplete": true,
   "bibliofile": "biblio.bib",
   "cite_by": "apalike",
   "current_citInitial": 1,
   "eqLabelWithNumbers": true,
   "eqNumInitial": 1,
   "hotkeys": {
    "equation": "Ctrl-E",
    "itemize": "Ctrl-I"
   },
   "labels_anchors": false,
   "latex_user_defs": false,
   "report_style_numbering": false,
   "user_envs_cfg": false
  },
  "toc": {
   "base_numbering": 1,
   "nav_menu": {},
   "number_sections": true,
   "sideBar": true,
   "skip_h1_title": false,
   "title_cell": "Table of Contents",
   "title_sidebar": "Contents",
   "toc_cell": false,
   "toc_position": {},
   "toc_section_display": true,
   "toc_window_display": false
  },
  "varInspector": {
   "cols": {
    "lenName": 16,
    "lenType": 16,
    "lenVar": 40
   },
   "kernels_config": {
    "python": {
     "delete_cmd_postfix": "",
     "delete_cmd_prefix": "del ",
     "library": "var_list.py",
     "varRefreshCmd": "print(var_dic_list())"
    },
    "r": {
     "delete_cmd_postfix": ") ",
     "delete_cmd_prefix": "rm(",
     "library": "var_list.r",
     "varRefreshCmd": "cat(var_dic_list()) "
    }
   },
   "types_to_exclude": [
    "module",
    "function",
    "builtin_function_or_method",
    "instance",
    "_Feature"
   ],
   "window_display": false
  }
 },
 "nbformat": 4,
 "nbformat_minor": 2
}
